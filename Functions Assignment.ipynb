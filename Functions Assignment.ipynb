{
 "cells": [
  {
   "cell_type": "code",
   "execution_count": 1,
   "metadata": {},
   "outputs": [],
   "source": [
    "#SubfieldsInAI\n",
    "def Subfields():\n",
    "    print(\"Sub-fields in AI are:\")\n",
    "    print(\"Machine Learning\")\n",
    "    print(\"Neural Networks\")\n",
    "    print(\"Vison\")\n",
    "    print(\"Robotics\")\n",
    "    print(\"Speech Processing\")\n",
    "    print(\"Natural Language Processing\")"
   ]
  },
  {
   "cell_type": "code",
   "execution_count": 2,
   "metadata": {},
   "outputs": [
    {
     "name": "stdout",
     "output_type": "stream",
     "text": [
      "Sub-fields in AI are:\n",
      "Machine Learning\n",
      "Neural Networks\n",
      "Vison\n",
      "Robotics\n",
      "Speech Processing\n",
      "Natural Language Processing\n"
     ]
    }
   ],
   "source": [
    "Subfields()"
   ]
  },
  {
   "cell_type": "code",
   "execution_count": 3,
   "metadata": {},
   "outputs": [],
   "source": [
    "#OddEven\n",
    "\n",
    "def OddEven():\n",
    "    Number=int(input(\"Enter The Number: \"))\n",
    "    if((Number%2)==1):\n",
    "        print(Number,\" is Odd Number\")\n",
    "    else:\n",
    "        print(Number,\" is Even Number\")"
   ]
  },
  {
   "cell_type": "code",
   "execution_count": 4,
   "metadata": {},
   "outputs": [
    {
     "name": "stdout",
     "output_type": "stream",
     "text": [
      "Enter The Number: 52452\n",
      "52452  is Even Number\n"
     ]
    }
   ],
   "source": [
    "OddEven()"
   ]
  },
  {
   "cell_type": "code",
   "execution_count": 5,
   "metadata": {},
   "outputs": [],
   "source": [
    "#ElegiblityForMarriage\n",
    "\n",
    "def Elegible():\n",
    "    Gender=input(\"Enter Your Gender: \")\n",
    "    Age=int(input(\"Enter Your Age: \"))\n",
    "    if(Gender==\"Male\" and Age>=21 or Gender==\"Female\" and Age>=18):\n",
    "        print(\"ELEGIBLE\")\n",
    "    else:\n",
    "        print(\"NOT ELEGIBLE\")"
   ]
  },
  {
   "cell_type": "code",
   "execution_count": 6,
   "metadata": {},
   "outputs": [
    {
     "name": "stdout",
     "output_type": "stream",
     "text": [
      "Enter Your Gender: Male\n",
      "Enter Your Age: 20\n",
      "NOT ELEGIBLE\n"
     ]
    }
   ],
   "source": [
    "Elegible()"
   ]
  },
  {
   "cell_type": "code",
   "execution_count": 7,
   "metadata": {},
   "outputs": [],
   "source": [
    "#FindPercent\n",
    "\n",
    "def percentage(Subject1,Subject2,Subject3,Subject4,Subject5):\n",
    "    Total=Subject1+Subject2+Subject3+Subject4+Subject5\n",
    "    Percentage=Total/5\n",
    "    print(\"Subject1 = \",Subject1)\n",
    "    print(\"Subject2 = \",Subject2)\n",
    "    print(\"Subject3 = \",Subject3)\n",
    "    print(\"Subject4 = \",Subject4)\n",
    "    print(\"Subject5 = \",Subject5)\n",
    "    print(\"Total : \", Total)\n",
    "    print(\"Percentange: \", Percentage)"
   ]
  },
  {
   "cell_type": "code",
   "execution_count": 8,
   "metadata": {},
   "outputs": [
    {
     "name": "stdout",
     "output_type": "stream",
     "text": [
      "Subject1 =  98\n",
      "Subject2 =  87\n",
      "Subject3 =  95\n",
      "Subject4 =  95\n",
      "Subject5 =  93\n",
      "Total :  468\n",
      "Percentange:  93.6\n"
     ]
    }
   ],
   "source": [
    "percentage(98,87,95,95,93)"
   ]
  },
  {
   "cell_type": "code",
   "execution_count": 9,
   "metadata": {},
   "outputs": [],
   "source": [
    "#triangle\n",
    "\n",
    "def triangle():\n",
    "    Height=int(input(\"Height: \"))\n",
    "    Breadth=int(input(\"Breadth: \"))\n",
    "    Area=(Height*Breadth)/2\n",
    "    print(\"Area Of Triangle: \",Area)\n",
    "    Height1=int(input(\"Height1: \"))\n",
    "    Height2=int(input(\"Height2: \"))\n",
    "    Breadth1=int(input(\"Breadth1: \"))\n",
    "    Perimeter=Height1+Height2+Breadth1\n",
    "    print(\"Perimeter of Triangle: \",Perimeter)"
   ]
  },
  {
   "cell_type": "code",
   "execution_count": 10,
   "metadata": {},
   "outputs": [
    {
     "name": "stdout",
     "output_type": "stream",
     "text": [
      "Height: 32\n",
      "Breadth: 34\n",
      "Area Of Triangle:  544.0\n",
      "Height1: 2\n",
      "Height2: 4\n",
      "Breadth1: 4\n",
      "Perimeter of Triangle:  10\n"
     ]
    }
   ],
   "source": [
    "triangle()"
   ]
  },
  {
   "cell_type": "code",
   "execution_count": null,
   "metadata": {},
   "outputs": [],
   "source": []
  }
 ],
 "metadata": {
  "kernelspec": {
   "display_name": "Python 3",
   "language": "python",
   "name": "python3"
  },
  "language_info": {
   "codemirror_mode": {
    "name": "ipython",
    "version": 3
   },
   "file_extension": ".py",
   "mimetype": "text/x-python",
   "name": "python",
   "nbconvert_exporter": "python",
   "pygments_lexer": "ipython3",
   "version": "3.7.4"
  }
 },
 "nbformat": 4,
 "nbformat_minor": 2
}
