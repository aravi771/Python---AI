{
 "cells": [
  {
   "cell_type": "code",
   "execution_count": 1,
   "metadata": {},
   "outputs": [
    {
     "name": "stdout",
     "output_type": "stream",
     "text": [
      "Hope AI\n"
     ]
    }
   ],
   "source": [
    "print(\"Hope AI\")"
   ]
  },
  {
   "cell_type": "code",
   "execution_count": 2,
   "metadata": {},
   "outputs": [
    {
     "name": "stdout",
     "output_type": "stream",
     "text": [
      "Enter Your Institute Name: Hope AI\n"
     ]
    }
   ],
   "source": [
    "A= input(\"Enter Your Institute Name: \")"
   ]
  },
  {
   "cell_type": "code",
   "execution_count": 3,
   "metadata": {},
   "outputs": [
    {
     "name": "stdout",
     "output_type": "stream",
     "text": [
      "Enter Your Name: Aravindh\n",
      "Enter Your Age: 35\n",
      "Enter Your School Name:AMHSS\n",
      "Enter Your Degree: B.E\n"
     ]
    }
   ],
   "source": [
    "Name=input(\"Enter Your Name: \")\n",
    "Age=input(\"Enter Your Age: \")\n",
    "School=input(\"Enter Your School Name:\")\n",
    "Degree=input(\"Enter Your Degree: \")"
   ]
  },
  {
   "cell_type": "code",
   "execution_count": 8,
   "metadata": {},
   "outputs": [
    {
     "name": "stdout",
     "output_type": "stream",
     "text": [
      "A=45\n",
      "B=523\n",
      "Add= 568\n"
     ]
    }
   ],
   "source": [
    "A=int(input(\"A=\"))\n",
    "B=int(input(\"B=\"))\n",
    "print(\"Add=\",A+B)"
   ]
  },
  {
   "cell_type": "code",
   "execution_count": 11,
   "metadata": {},
   "outputs": [
    {
     "name": "stdout",
     "output_type": "stream",
     "text": [
      "A=98\n",
      "B=24\n",
      "Sub= 74\n"
     ]
    }
   ],
   "source": [
    "\n",
    "A=int(input(\"A=\"))\n",
    "B=int(input(\"B=\"))\n",
    "print(\"Sub=\",A-B)"
   ]
  },
  {
   "cell_type": "code",
   "execution_count": 12,
   "metadata": {},
   "outputs": [
    {
     "name": "stdout",
     "output_type": "stream",
     "text": [
      "A=6\n",
      "B=2\n",
      "Mul= 12\n"
     ]
    }
   ],
   "source": [
    "A=int(input(\"A=\"))\n",
    "B=int(input(\"B=\"))\n",
    "print(\"Mul=\",A*B)"
   ]
  },
  {
   "cell_type": "code",
   "execution_count": 13,
   "metadata": {},
   "outputs": [
    {
     "name": "stdout",
     "output_type": "stream",
     "text": [
      "A=84\n",
      "B=4\n",
      "Div= 21.0\n"
     ]
    }
   ],
   "source": [
    "A=int(input(\"A=\"))\n",
    "B=int(input(\"B=\"))\n",
    "print(\"Div=\",A/B)"
   ]
  },
  {
   "cell_type": "code",
   "execution_count": 14,
   "metadata": {},
   "outputs": [
    {
     "name": "stdout",
     "output_type": "stream",
     "text": [
      "A=76\n",
      "B=31\n",
      "Floor Div= 2\n"
     ]
    }
   ],
   "source": [
    "A=int(input(\"A=\"))\n",
    "B=int(input(\"B=\"))\n",
    "print(\"Floor Div=\",A//B)"
   ]
  },
  {
   "cell_type": "code",
   "execution_count": 16,
   "metadata": {},
   "outputs": [
    {
     "name": "stdout",
     "output_type": "stream",
     "text": [
      "A=77\n",
      "B=4\n",
      "Modulo= 1\n"
     ]
    }
   ],
   "source": [
    "A=int(input(\"A=\"))\n",
    "B=int(input(\"B=\"))\n",
    "print(\"Modulo=\",A%B)"
   ]
  },
  {
   "cell_type": "code",
   "execution_count": 18,
   "metadata": {},
   "outputs": [
    {
     "name": "stdout",
     "output_type": "stream",
     "text": [
      "A=4\n",
      "B=4\n",
      "Power= 256\n"
     ]
    }
   ],
   "source": [
    "A=int(input(\"A=\"))\n",
    "B=int(input(\"B=\"))\n",
    "print(\"Power=\",A**B)"
   ]
  },
  {
   "cell_type": "code",
   "execution_count": null,
   "metadata": {},
   "outputs": [],
   "source": []
  }
 ],
 "metadata": {
  "kernelspec": {
   "display_name": "Python 3",
   "language": "python",
   "name": "python3"
  },
  "language_info": {
   "codemirror_mode": {
    "name": "ipython",
    "version": 3
   },
   "file_extension": ".py",
   "mimetype": "text/x-python",
   "name": "python",
   "nbconvert_exporter": "python",
   "pygments_lexer": "ipython3",
   "version": "3.7.4"
  }
 },
 "nbformat": 4,
 "nbformat_minor": 2
}
